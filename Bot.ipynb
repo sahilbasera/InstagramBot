{
 "cells": [
  {
   "cell_type": "code",
   "execution_count": 5,
   "metadata": {},
   "outputs": [],
   "source": [
    "from selenium import webdriver\n",
    "from time import sleep\n",
    "import getpass"
   ]
  },
  {
   "cell_type": "code",
   "execution_count": 6,
   "metadata": {},
   "outputs": [],
   "source": [
    "class InstaBot :\n",
    "    def __init__(self, username, pw):\n",
    "        self.driver = webdriver.Chrome()\n",
    "        self.username = username\n",
    "        self.driver.get(\"https:instagram.com\")\n",
    "        sleep(2)\n",
    "        self.driver.find_element_by_xpath(\"//a[contains(text(), 'Log in')]\").click()\n",
    "        sleep(2)\n",
    "        self.driver.find_element_by_xpath(\"//input[@name=\\\"username\\\"]\").send_keys(username)\n",
    "        self.driver.find_element_by_xpath(\"//input[@name=\\\"password\\\"]\").send_keys(pw)\n",
    "        self.driver.find_element_by_xpath(\"//button[@type='submit']\").click()\n",
    "        sleep(4)\n",
    "        self.driver.find_element_by_xpath(\"//button[contains(text(), 'Not Now')]\").click()\n",
    "        sleep(2)\n",
    "    \n",
    "    def get_unfollowers(self):\n",
    "        self.driver.find_element_by_xpath(\"//a[contains(@href, '/{}')]\".format(self.username)).click()\n",
    "        sleep(4)\n",
    "        self.driver.find_element_by_xpath(\"//a[contains(@href, '/following/')]\").click()\n",
    "        #sleep(4)\n",
    "        following = self._get_names()\n",
    "        self.driver.find_element_by_xpath(\"//a[contains(@href, '/followers/')]\").click()\n",
    "        #sleep(4)\n",
    "        followers = self._get_names()\n",
    "        #sleep(1)\n",
    "        not_following_back = [user for user in following if user not in followers]\n",
    "        print(not_following_back)\n",
    "        \n",
    "    \n",
    "    def _get_names(self):\n",
    "        #sugs = self.driver.find_element_by_xpath('//h4[contains(text(), Suggestions)]')\n",
    "        #self.driver.execute_script('arguments[0].scrollIntoView()', sugs)\n",
    "        sleep(2)\n",
    "        scroll_box = self.driver.find_element_by_xpath(\"/html/body/div[4]/div/div[2]\")\n",
    "        last_ht, ht = 0, 1\n",
    "        while(last_ht != ht):\n",
    "            last_ht = ht\n",
    "            sleep(2)\n",
    "            ht = self.driver.execute_script(\"\"\"arguments[0].scrollTo(0, arguments[0].scrollHeight);\n",
    "            return arguments[0].scrollHeight;\"\"\", scroll_box)\n",
    "            sleep(2)\n",
    "            links = scroll_box.find_elements_by_tag_name('a')\n",
    "            names = [name.text for name in links if name.text != '']\n",
    "            #sleep(2)\n",
    "            #print(names)\n",
    "        self.driver.find_element_by_xpath(\"/html/body/div[4]/div/div[1]/div/div[2]/button\").click()\n",
    "            #/html/body/div[4]/div/div[1]/div/div[2]/button/svg\n",
    "        return names\n",
    "    "
   ]
  },
  {
   "cell_type": "code",
   "execution_count": null,
   "metadata": {
    "scrolled": true
   },
   "outputs": [
    {
     "name": "stdout",
     "output_type": "stream",
     "text": [
      "Enter Instagram Username : abc\n",
      "Enter Password : ········\n"
     ]
    }
   ],
   "source": [
    "username = input(\"Enter Instagram Username : \")\n",
    "password = getpass.getpass(\"Enter Password : \")\n",
    "my_bot = InstaBot(username, password)\n",
    "my_bot.get_unfollowers()"
   ]
  },
  {
   "cell_type": "code",
   "execution_count": null,
   "metadata": {},
   "outputs": [],
   "source": []
  },
  {
   "cell_type": "code",
   "execution_count": null,
   "metadata": {},
   "outputs": [],
   "source": []
  }
 ],
 "metadata": {
  "kernelspec": {
   "display_name": "Python 3",
   "language": "python",
   "name": "python3"
  },
  "language_info": {
   "codemirror_mode": {
    "name": "ipython",
    "version": 3
   },
   "file_extension": ".py",
   "mimetype": "text/x-python",
   "name": "python",
   "nbconvert_exporter": "python",
   "pygments_lexer": "ipython3",
   "version": "3.6.7"
  }
 },
 "nbformat": 4,
 "nbformat_minor": 2
}
